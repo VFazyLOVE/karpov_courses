{
 "cells": [
  {
   "cell_type": "code",
   "execution_count": 51,
   "metadata": {},
   "outputs": [],
   "source": [
    "import pandas as pd\n",
    "import numpy as np\n",
    "import matplotlib.pyplot as plt\n",
    "import seaborn as sns\n",
    "import requests"
   ]
  },
  {
   "cell_type": "code",
   "execution_count": 3,
   "metadata": {},
   "outputs": [],
   "source": [
    "groups_link = 'https://disk.yandex.ru/d/UhyYx41rTt3clQ'\n",
    "groups_add_link = 'https://disk.yandex.ru/d/5Kxrz02m3IBUwQ'\n",
    "active_studs_link = 'https://disk.yandex.ru/d/Tbs44Bm6H_FwFQ'\n",
    "checks_link = 'https://disk.yandex.ru/d/pH1q-VqcxXjsVA'"
   ]
  },
  {
   "cell_type": "code",
   "execution_count": 4,
   "metadata": {},
   "outputs": [],
   "source": [
    "request_link = 'https://cloud-api.yandex.net/v1/disk/public/resources/download?public_key='"
   ]
  },
  {
   "cell_type": "code",
   "execution_count": 5,
   "metadata": {},
   "outputs": [],
   "source": [
    "r_groups_link = requests.get(request_link+groups_link)\n",
    "r_groups_add_link = requests.get(request_link+groups_add_link)\n",
    "r_active_studs_link = requests.get(request_link+active_studs_link)\n",
    "r_checks_link = requests.get(request_link+checks_link)"
   ]
  },
  {
   "cell_type": "code",
   "execution_count": 6,
   "metadata": {},
   "outputs": [],
   "source": [
    "groups_csv = r_groups_link.json()['href']\n",
    "groups_add_csv = r_groups_add_link.json()['href']\n",
    "active_studs_csv = r_active_studs_link.json()['href']\n",
    "checks_csv = r_checks_link.json()['href']"
   ]
  },
  {
   "cell_type": "code",
   "execution_count": 28,
   "metadata": {},
   "outputs": [],
   "source": [
    "# файл с информацией о принадлежности пользователя к контрольной или экспериментальной группе (А – контроль, B – целевая группа) \n",
    "groups = pd.read_csv(groups_csv, sep=';', header=0, names = ['student_id', 'group'])\n",
    "\n",
    "# дополнительный файл с пользователями, который вам прислали спустя 2 дня после передачи данных\n",
    "groups_add = pd.read_csv(groups_add_csv, sep=',', header=0, names = ['student_id', 'group'])\n",
    "\n",
    "# файл с информацией о пользователях, которые зашли на платформу в дни проведения эксперимента\n",
    "active_studs = pd.read_csv(active_studs_csv, header=0, names = ['student_id'])\n",
    "\n",
    "# файл с информацией об оплатах пользователей в дни проведения эксперимента\n",
    "checks = pd.read_csv(checks_csv, sep=';', header=0, names = ['student_id', 'revenue'])"
   ]
  },
  {
   "cell_type": "code",
   "execution_count": 95,
   "metadata": {},
   "outputs": [],
   "source": [
    "def metrics(groups = groups, groups_add = groups_add, active_studs = active_studs, checks = checks):\n",
    "    \n",
    "    group_data = pd.concat([groups,groups_add]).merge(active_studs, on = 'student_id', how = 'right').merge(checks, on = 'student_id', how = 'left')\n",
    "    \n",
    "    group_data['revenue'] = group_data['revenue'].fillna(0)\n",
    "    group_data['purchase'] = group_data['revenue'].apply(lambda x: 1 if x > 0 else 0)\n",
    "    \n",
    "    CR = group_data.groupby('group', as_index = False).agg({'purchase':'mean'}).rename(columns = {'purchase':'cr'})\n",
    "    CR['cr'] = CR['cr'] * 100\n",
    "    ARPU = group_data.groupby('group', as_index = False).agg({'revenue':'mean'}).rename(columns = {'revenue':'ARPU'})\n",
    "    ARPPU = group_data[group_data['purchase'] > 0].groupby('group', as_index = False).agg({'revenue':'mean'}).rename(columns = {'revenue':'ARPPU'})\n",
    "    \n",
    "    return CR, ARPU, ARPPU"
   ]
  },
  {
   "cell_type": "code",
   "execution_count": 99,
   "metadata": {},
   "outputs": [],
   "source": [
    "cr, arpu, arppu = metrics()"
   ]
  },
  {
   "cell_type": "code",
   "execution_count": 102,
   "metadata": {},
   "outputs": [],
   "source": [
    "def visual(cr = cr, arpu = arpu, arrpu = arppu):\n",
    "    figure, ax = plt.subplots(1, 3, figsize=(15, 5))\n",
    "\n",
    "    ax_1 = sns.barplot(data=cr, x='group', y = 'cr', ax=ax[0])\n",
    "    ax_1.set_xlabel('Экспериментальная группа', fontsize=15)\n",
    "    ax_1.set_ylabel('')\n",
    "    ax_1.set_title('Метрика CR (%)', fontsize=20)\n",
    "\n",
    "    ax_2 = sns.barplot(data=arpu, x='group', y = 'ARPU', ax=ax[1])\n",
    "    ax_2.set_xlabel('Экспериментальная группа', fontsize=15)\n",
    "    ax_2.set_ylabel('')\n",
    "    ax_2.set_title('Метрика ARPU (у.е.)', fontsize=20)\n",
    "    \n",
    "    ax_3 = sns.barplot(data=arppu, x='group', y = 'ARPPU', ax=ax[2])\n",
    "    ax_3.set_xlabel('Экспериментальная группа', fontsize=15)\n",
    "    ax_3.set_ylabel('')\n",
    "    ax_3.set_title('Метрика ARPPU (у.е.)', fontsize=20)"
   ]
  },
  {
   "cell_type": "code",
   "execution_count": 103,
   "metadata": {},
   "outputs": [
    {
     "data": {
      "image/png": "[encoded data removed]",
      "text/plain": [
       "<Figure size 1080x360 with 3 Axes>"
      ]
     },
     "metadata": {
      "needs_background": "light"
     },
     "output_type": "display_data"
    }
   ],
   "source": [
    "visual()"
   ]
  },
  {
   "cell_type": "code",
   "execution_count": null,
   "metadata": {},
   "outputs": [],
   "source": []
  }
 ],
 "metadata": {
  "kernelspec": {
   "display_name": "Python 3",
   "language": "python",
   "name": "python3"
  },
  "language_info": {
   "codemirror_mode": {
    "name": "ipython",
    "version": 3
   },
   "file_extension": ".py",
   "mimetype": "text/x-python",
   "name": "python",
   "nbconvert_exporter": "python",
   "pygments_lexer": "ipython3",
   "version": "3.7.3"
  }
 },
 "nbformat": 4,
 "nbformat_minor": 4
}
